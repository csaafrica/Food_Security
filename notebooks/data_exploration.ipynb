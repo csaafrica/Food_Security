{
 "cells": [
  {
   "cell_type": "markdown",
   "id": "2e22f9c3",
   "metadata": {},
   "source": [
    "# Data Exploration, Cleaning and Visualization"
   ]
  },
  {
   "cell_type": "markdown",
   "id": "6a728bbb",
   "metadata": {},
   "source": [
    "We start with data acquisition, preparing, cleaning, exploration and visualization"
   ]
  },
  {
   "cell_type": "markdown",
   "id": "f5aae3b9",
   "metadata": {},
   "source": [
    "Importing the required libraries"
   ]
  },
  {
   "cell_type": "code",
   "execution_count": 31,
   "id": "fc053e02",
   "metadata": {},
   "outputs": [],
   "source": [
    "import os\n",
    "import requests\n",
    "import pandas as pd\n",
    "import numpy as np\n",
    "import matplotlib.pyplot as plt\n",
    "import json"
   ]
  },
  {
   "cell_type": "markdown",
   "id": "629541d2",
   "metadata": {},
   "source": [
    "Below is the api code for getting the food security of kenya from 2023 -01 -01 to 2025 -05 -25"
   ]
  },
  {
   "cell_type": "code",
   "execution_count": 2,
   "id": "be44c1f6",
   "metadata": {},
   "outputs": [],
   "source": [
    "def fetch_data_from_api(base_url, endpoint, params, headers=None):\n",
    "    \n",
    "    \"\"\"\n",
    "    Fetches data from a REST API.\n",
    "\n",
    "    Args:\n",
    "        base_url (str): The base URL of the API.\n",
    "        endpoint (str): The specific API endpoint.\n",
    "        params (dict): A dictionary of query parameters.\n",
    "        headers (dict, optional): A dictionary of HTTP headers (e.g., for authentication).\n",
    "    Returns:\n",
    "        list: The JSON response data as a list of dictionaries, or None if the request fails.\n",
    "    \"\"\"\n",
    "    \n",
    "    url = f\"{base_url}{endpoint}\"\n",
    "    \n",
    "    \n",
    "    try:\n",
    "        response = requests.get(url, params=params, headers=headers)\n",
    "        response.raise_for_status()  #Raise an HTTPError for bad responses.\n",
    "        \n",
    "        return response.json()\n",
    "    \n",
    "    except requests.exceptions.HTTPError as http_err:\n",
    "        print(f\"HTTP error occurred: {http_err} - Response status: {response.status_code}\")\n",
    "        \n",
    "    except requests.exceptions.ConnectionError as conn_err:\n",
    "        print(f\"Connection error occurred: {conn_err}\")\n",
    "        \n",
    "    except requests.exceptions.Timeout as timeout_err:\n",
    "        print(f\"Timeout error occurred: {timeout_err}\")\n",
    "        \n",
    "    except requests.exceptions.RequestException as req_err:\n",
    "        print(f\"An error occurred: {req_err}\")\n",
    "        \n",
    "    return None"
   ]
  },
  {
   "cell_type": "code",
   "execution_count": 32,
   "id": "ca2954b1",
   "metadata": {},
   "outputs": [],
   "source": [
    "# Definining the country and date range we want to get data\n",
    "country_name = \"Kenya\"\n",
    "start_date = \"2023-01-01\"\n",
    "end_date = \"2025-05-25\""
   ]
  },
  {
   "cell_type": "code",
   "execution_count": 33,
   "id": "87a9ce66",
   "metadata": {},
   "outputs": [],
   "source": [
    "#Configuration for FEWS NET Food Security Data ---\n",
    "fews_net_base_url = \"https://fdw.fews.net\"\n",
    "\n",
    "\"\"\"\n",
    "\n",
    "Endpoint for foodsecurity classifications.\n",
    "Provides data on IPC (Integrated Food Security Phase Classification) phases\n",
    "\n",
    "\"\"\"\n",
    "fews_net_endpoint = \"/api/ipcclassification.json\"\n"
   ]
  },
  {
   "cell_type": "code",
   "execution_count": 34,
   "id": "db998cbd",
   "metadata": {},
   "outputs": [],
   "source": [
    "# Parameters for the API request\n",
    "fews_net_params = {\n",
    "    \"country\": country_name,\n",
    "    \"start_date\": start_date,\n",
    "    \"end_date\": end_date,\n",
    "    \"format\": \"json\",\n",
    "    \"limit\": 10000 \n",
    "                   \n",
    "}\n",
    "data = fetch_data_from_api(fews_net_base_url, fews_net_endpoint, fews_net_params)"
   ]
  },
  {
   "cell_type": "code",
   "execution_count": 6,
   "id": "713c0e16",
   "metadata": {},
   "outputs": [],
   "source": [
    "# Saving Data to DataFrame \n",
    "df = pd.DataFrame(data)"
   ]
  },
  {
   "cell_type": "code",
   "execution_count": null,
   "id": "bb3adeaa",
   "metadata": {},
   "outputs": [],
   "source": []
  },
  {
   "cell_type": "markdown",
   "id": "f5ab8e3c",
   "metadata": {},
   "source": []
  },
  {
   "cell_type": "markdown",
   "id": "3bbb1764",
   "metadata": {},
   "source": [
    "#### Cleaning the FEWS NET food security data frame"
   ]
  },
  {
   "cell_type": "code",
   "execution_count": 8,
   "id": "1112f935",
   "metadata": {},
   "outputs": [],
   "source": [
    "#Dropping columns\n",
    "df = df.drop(columns=['start', 'end', 'admin_0', 'admin_2', 'admin_1', 'admin_3',\n",
    "                      'admin_4', 'geographic_group'])"
   ]
  },
  {
   "cell_type": "code",
   "execution_count": null,
   "id": "484da0d8",
   "metadata": {},
   "outputs": [],
   "source": []
  },
  {
   "cell_type": "markdown",
   "id": "89a2bc74",
   "metadata": {},
   "source": []
  },
  {
   "cell_type": "markdown",
   "id": "b09c4866",
   "metadata": {},
   "source": [
    "## Loading the Data Files for FAO and ACLED for cleaning"
   ]
  },
  {
   "cell_type": "code",
   "execution_count": 10,
   "id": "c75c00ef",
   "metadata": {},
   "outputs": [],
   "source": [
    "fao = pd.read_csv(\"../data/FAO.csv\")\n",
    "acled = pd.read_csv(\"../data/Acled.csv\")"
   ]
  },
  {
   "cell_type": "code",
   "execution_count": 11,
   "id": "5d5da146",
   "metadata": {},
   "outputs": [],
   "source": [
    "pd.set_option(\"display.max_columns\", None)"
   ]
  },
  {
   "cell_type": "markdown",
   "id": "d339cedf",
   "metadata": {},
   "source": [
    "#### Cleaning the FAO data file"
   ]
  },
  {
   "cell_type": "code",
   "execution_count": 12,
   "id": "444fd809",
   "metadata": {},
   "outputs": [],
   "source": [
    "#Retaining only the required columns\n",
    "required = ['admin_1', 'market', 'cpcv2_description', 'is_staple_food',\n",
    "            'longitude', 'latitude', 'collection_schedule', 'created', 'modified',\n",
    "            'value', 'common_unit_price'\n",
    "            ]\n",
    "fao = fao[required]"
   ]
  },
  {
   "cell_type": "code",
   "execution_count": 13,
   "id": "5d8d4b38",
   "metadata": {},
   "outputs": [],
   "source": [
    "#Dropped missing entries and committed the changes to the dataframe\n",
    "fao.dropna(inplace=True)"
   ]
  },
  {
   "cell_type": "code",
   "execution_count": 14,
   "id": "48e9b986",
   "metadata": {},
   "outputs": [
    {
     "data": {
      "text/html": [
       "<div>\n",
       "<style scoped>\n",
       "    .dataframe tbody tr th:only-of-type {\n",
       "        vertical-align: middle;\n",
       "    }\n",
       "\n",
       "    .dataframe tbody tr th {\n",
       "        vertical-align: top;\n",
       "    }\n",
       "\n",
       "    .dataframe thead th {\n",
       "        text-align: right;\n",
       "    }\n",
       "</style>\n",
       "<table border=\"1\" class=\"dataframe\">\n",
       "  <thead>\n",
       "    <tr style=\"text-align: right;\">\n",
       "      <th></th>\n",
       "      <th>admin_1</th>\n",
       "      <th>market</th>\n",
       "      <th>cpcv2_description</th>\n",
       "      <th>is_staple_food</th>\n",
       "      <th>longitude</th>\n",
       "      <th>latitude</th>\n",
       "      <th>collection_schedule</th>\n",
       "      <th>created</th>\n",
       "      <th>modified</th>\n",
       "      <th>value</th>\n",
       "      <th>common_unit_price</th>\n",
       "    </tr>\n",
       "  </thead>\n",
       "  <tbody>\n",
       "    <tr>\n",
       "      <th>0</th>\n",
       "      <td>Isiolo</td>\n",
       "      <td>Baringo</td>\n",
       "      <td>Goats, local quality</td>\n",
       "      <td>False</td>\n",
       "      <td>39.113776</td>\n",
       "      <td>0.858767</td>\n",
       "      <td>Monthly</td>\n",
       "      <td>2020-09-07T13:57:16</td>\n",
       "      <td>2024-12-27T13:41:51</td>\n",
       "      <td>1060.0</td>\n",
       "      <td>1060.0</td>\n",
       "    </tr>\n",
       "    <tr>\n",
       "      <th>1</th>\n",
       "      <td>Isiolo</td>\n",
       "      <td>Baringo</td>\n",
       "      <td>Goats, local quality</td>\n",
       "      <td>False</td>\n",
       "      <td>39.113776</td>\n",
       "      <td>0.858767</td>\n",
       "      <td>Monthly</td>\n",
       "      <td>2020-09-07T13:57:19</td>\n",
       "      <td>2024-12-27T13:41:51</td>\n",
       "      <td>957.0</td>\n",
       "      <td>957.0</td>\n",
       "    </tr>\n",
       "    <tr>\n",
       "      <th>2</th>\n",
       "      <td>Isiolo</td>\n",
       "      <td>Baringo</td>\n",
       "      <td>Goats, local quality</td>\n",
       "      <td>False</td>\n",
       "      <td>39.113776</td>\n",
       "      <td>0.858767</td>\n",
       "      <td>Monthly</td>\n",
       "      <td>2020-09-07T13:57:21</td>\n",
       "      <td>2024-12-27T13:41:51</td>\n",
       "      <td>876.0</td>\n",
       "      <td>876.0</td>\n",
       "    </tr>\n",
       "  </tbody>\n",
       "</table>\n",
       "</div>"
      ],
      "text/plain": [
       "  admin_1   market     cpcv2_description  is_staple_food  longitude  latitude  \\\n",
       "0  Isiolo  Baringo  Goats, local quality           False  39.113776  0.858767   \n",
       "1  Isiolo  Baringo  Goats, local quality           False  39.113776  0.858767   \n",
       "2  Isiolo  Baringo  Goats, local quality           False  39.113776  0.858767   \n",
       "\n",
       "  collection_schedule              created             modified   value  \\\n",
       "0             Monthly  2020-09-07T13:57:16  2024-12-27T13:41:51  1060.0   \n",
       "1             Monthly  2020-09-07T13:57:19  2024-12-27T13:41:51   957.0   \n",
       "2             Monthly  2020-09-07T13:57:21  2024-12-27T13:41:51   876.0   \n",
       "\n",
       "   common_unit_price  \n",
       "0             1060.0  \n",
       "1              957.0  \n",
       "2              876.0  "
      ]
     },
     "execution_count": 14,
     "metadata": {},
     "output_type": "execute_result"
    }
   ],
   "source": [
    "# Printing the first 3 entries \n",
    "fao.head(3)"
   ]
  },
  {
   "cell_type": "markdown",
   "id": "97df56c0",
   "metadata": {},
   "source": [
    "#### Cleaning the ACLED data file"
   ]
  },
  {
   "cell_type": "code",
   "execution_count": 15,
   "id": "24ef51bd",
   "metadata": {},
   "outputs": [],
   "source": [
    "#Retaining only the required columns\n",
    "required = ['event_date', 'country', 'event_type', 'sub_event_type',\n",
    "            'actor1', 'fatalities', 'interaction', 'location',\n",
    "            'geo_precision', 'admin1'\n",
    "            ]\n",
    "acled = acled[required]"
   ]
  },
  {
   "cell_type": "code",
   "execution_count": 16,
   "id": "07e69d98",
   "metadata": {},
   "outputs": [],
   "source": [
    "# Renaming the column admin1 to admin_1 to be used for merging of the two DataFrames\n",
    "acled = acled.rename(columns={'admin1': 'admin_1'})"
   ]
  },
  {
   "cell_type": "code",
   "execution_count": 17,
   "id": "a80cfad5",
   "metadata": {},
   "outputs": [
    {
     "name": "stdout",
     "output_type": "stream",
     "text": [
      "<class 'pandas.core.frame.DataFrame'>\n",
      "RangeIndex: 4643 entries, 0 to 4642\n",
      "Data columns (total 10 columns):\n",
      " #   Column          Non-Null Count  Dtype \n",
      "---  ------          --------------  ----- \n",
      " 0   event_date      4643 non-null   object\n",
      " 1   country         4643 non-null   object\n",
      " 2   event_type      4643 non-null   object\n",
      " 3   sub_event_type  4643 non-null   object\n",
      " 4   actor1          4643 non-null   object\n",
      " 5   fatalities      4643 non-null   int64 \n",
      " 6   interaction     4643 non-null   object\n",
      " 7   location        4643 non-null   object\n",
      " 8   geo_precision   4643 non-null   int64 \n",
      " 9   admin_1         4643 non-null   object\n",
      "dtypes: int64(2), object(8)\n",
      "memory usage: 362.9+ KB\n"
     ]
    }
   ],
   "source": [
    "acled.info()"
   ]
  },
  {
   "cell_type": "markdown",
   "id": "8ff689d4",
   "metadata": {},
   "source": [
    "## Loading the Rainfall Data Files"
   ]
  },
  {
   "cell_type": "code",
   "execution_count": 18,
   "id": "7d713683",
   "metadata": {},
   "outputs": [],
   "source": [
    "def load_and_merge_rainfall_data(folder_path):\n",
    "    \n",
    "    # Initializing empty dictionary to store DataFrames\n",
    "    data_frames = {}\n",
    "\n",
    "    # Iterate through all files in the folder 'chirp'\n",
    "    for file_name in os.listdir(folder_path):\n",
    "        \n",
    "        if file_name.endswith('.csv'): \n",
    "            file_path = os.path.join(folder_path, file_name)\n",
    "\n",
    "            # Load the CSV file\n",
    "            df = pd.read_csv(file_path)\n",
    "\n",
    "            # Add a county column using the file name and instatiate admin_1 to it\n",
    "            county_name = os.path.splitext(file_name)[0]\n",
    "            df['admin_1'] = county_name\n",
    "            \n",
    "            # Dropping the Unnamed: 4 column in all datasets\n",
    "            if 'Unnamed: 4' in df.columns:\n",
    "                df.drop(columns=['Unnamed: 4'], inplace=True)\n",
    "\n",
    "            # Use county_name as key for DataFrame\n",
    "            data_frames[county_name] = df\n",
    "            \n",
    "    # Merge all DataFrames into one\n",
    "    merged_data = None\n",
    "    for admin_1, df in data_frames.items():\n",
    "        if merged_data is None:\n",
    "            merged_data = df\n",
    "        else:\n",
    "            # Avoid duplicate column and keeping only 'Month' and year columns from new dataframe(Merged_data = df)\n",
    "            cols_to_merge = ['Month', '2023', '2024', 'admin_1']\n",
    "            df = df[cols_to_merge]\n",
    "            merged_data = merged_data.merge(df, on='Month', how='outer', suffixes=(None, f\"_{admin_1}\"))\n",
    "\n",
    "    # Reshape the data into long format\n",
    "    long_rows = []\n",
    "\n",
    "    for col in merged_data.columns:\n",
    "        if col.startswith('2023') or col.startswith('2024'):\n",
    "            base, *suffix = col.split('_')\n",
    "            admin_col = f\"admin_1{('_' + suffix[0]) if suffix else ''}\"\n",
    "        \n",
    "            # Use 'admin_1' if the specific column doesn't exist\n",
    "            admin_1 = merged_data[admin_col] if admin_col in merged_data else merged_data['admin_1']\n",
    "            \n",
    "            for idx, value in enumerate(merged_data[col]):\n",
    "                month = merged_data.loc[idx, 'Month']\n",
    "                long_rows.append({\n",
    "                    'Month': month,\n",
    "                    'admin_1': admin_1.iloc[idx],\n",
    "                    'year': base,\n",
    "                    'rainfall': value\n",
    "                })\n",
    "                \n",
    "    # Convert to DataFrame\n",
    "    long_data = pd.DataFrame(long_rows)  \n",
    "\n",
    "    return merged_data, long_data\n"
   ]
  },
  {
   "cell_type": "code",
   "execution_count": 19,
   "id": "9d8edcda",
   "metadata": {},
   "outputs": [],
   "source": [
    "#Defining path to folder containing rainfall data\n",
    "folder_path = '../chirp'  \n",
    "\n",
    "#Load and merge the rainfall data from the specified folder\n",
    "merged_df, long_df = load_and_merge_rainfall_data(folder_path)"
   ]
  },
  {
   "cell_type": "markdown",
   "id": "f032e8f4",
   "metadata": {},
   "source": []
  },
  {
   "cell_type": "markdown",
   "id": "b25ab218",
   "metadata": {},
   "source": [
    "## Merging the acled and fao datasets"
   ]
  },
  {
   "cell_type": "code",
   "execution_count": 20,
   "id": "e47ec0a3",
   "metadata": {},
   "outputs": [],
   "source": [
    "\"\"\"\n",
    "Convert the event_date column in the ACLED DataFrame to a datetime format and,\n",
    "create a new column year_month that represents the year and month as a period\n",
    "\"\"\"\n",
    "acled['year_month'] = pd.to_datetime(acled['event_date']).dt.to_period('M')\n",
    "\n",
    "\"\"\"\n",
    "Convert the created column in the FAO DataFrame to a datetime format and,\n",
    "create a new column year_month that represents the year and month as a period\n",
    "\"\"\"\n",
    "\n",
    "fao['year_month'] = pd.to_datetime(fao['created']).dt.to_period('M')  "
   ]
  },
  {
   "cell_type": "code",
   "execution_count": 21,
   "id": "c75b84f6",
   "metadata": {},
   "outputs": [],
   "source": [
    "fao.to_csv(\"fao.csv\", index=False)\n",
    "acled.to_csv(\"acled.csv\", index=False)"
   ]
  },
  {
   "cell_type": "code",
   "execution_count": 22,
   "id": "2cb2874c",
   "metadata": {},
   "outputs": [],
   "source": [
    "\"\"\"\n",
    "Merging the ACLED and FAO DataFrames by first creating a new 'year_month' column in both DataFrames by converting\n",
    "their respective date columns to a period format (Year-Month)\n",
    "\n",
    "\"\"\"\n",
    "\n",
    "merged = pd.merge(\n",
    "    acled.assign(year_month=pd.to_datetime(acled['event_date']).dt.to_period('M')),\n",
    "    fao.assign(year_month=pd.to_datetime(fao['created']).dt.to_period('M')),\n",
    "    on=['admin_1', 'year_month'],\n",
    "    how='inner'  \n",
    ")"
   ]
  },
  {
   "cell_type": "code",
   "execution_count": 23,
   "id": "c6a9697b",
   "metadata": {},
   "outputs": [
    {
     "data": {
      "text/html": [
       "<div>\n",
       "<style scoped>\n",
       "    .dataframe tbody tr th:only-of-type {\n",
       "        vertical-align: middle;\n",
       "    }\n",
       "\n",
       "    .dataframe tbody tr th {\n",
       "        vertical-align: top;\n",
       "    }\n",
       "\n",
       "    .dataframe thead th {\n",
       "        text-align: right;\n",
       "    }\n",
       "</style>\n",
       "<table border=\"1\" class=\"dataframe\">\n",
       "  <thead>\n",
       "    <tr style=\"text-align: right;\">\n",
       "      <th></th>\n",
       "      <th>event_date</th>\n",
       "      <th>country</th>\n",
       "      <th>event_type</th>\n",
       "      <th>sub_event_type</th>\n",
       "      <th>actor1</th>\n",
       "      <th>fatalities</th>\n",
       "      <th>interaction</th>\n",
       "      <th>location</th>\n",
       "      <th>geo_precision</th>\n",
       "      <th>admin_1</th>\n",
       "      <th>year_month</th>\n",
       "      <th>market</th>\n",
       "      <th>cpcv2_description</th>\n",
       "      <th>is_staple_food</th>\n",
       "      <th>longitude</th>\n",
       "      <th>latitude</th>\n",
       "      <th>collection_schedule</th>\n",
       "      <th>created</th>\n",
       "      <th>modified</th>\n",
       "      <th>value</th>\n",
       "      <th>common_unit_price</th>\n",
       "    </tr>\n",
       "  </thead>\n",
       "  <tbody>\n",
       "    <tr>\n",
       "      <th>0</th>\n",
       "      <td>01 January 2025</td>\n",
       "      <td>Kenya</td>\n",
       "      <td>Riots</td>\n",
       "      <td>Mob violence</td>\n",
       "      <td>Rioters (Kenya)</td>\n",
       "      <td>0</td>\n",
       "      <td>Rioters-Civilians</td>\n",
       "      <td>Nairobi - Embakasi North</td>\n",
       "      <td>1</td>\n",
       "      <td>Nairobi</td>\n",
       "      <td>2025-01</td>\n",
       "      <td>Nairobi</td>\n",
       "      <td>Beans, dry, rosecoco</td>\n",
       "      <td>False</td>\n",
       "      <td>36.8317</td>\n",
       "      <td>-1.28255</td>\n",
       "      <td>Monthly</td>\n",
       "      <td>2025-01-13T12:44:28</td>\n",
       "      <td>2025-01-24T05:50:20</td>\n",
       "      <td>12690.0</td>\n",
       "      <td>141.0</td>\n",
       "    </tr>\n",
       "    <tr>\n",
       "      <th>1</th>\n",
       "      <td>01 January 2025</td>\n",
       "      <td>Kenya</td>\n",
       "      <td>Riots</td>\n",
       "      <td>Mob violence</td>\n",
       "      <td>Rioters (Kenya)</td>\n",
       "      <td>0</td>\n",
       "      <td>Rioters-Civilians</td>\n",
       "      <td>Nairobi - Embakasi North</td>\n",
       "      <td>1</td>\n",
       "      <td>Nairobi</td>\n",
       "      <td>2025-01</td>\n",
       "      <td>Nairobi</td>\n",
       "      <td>Beans, dry, rosecoco</td>\n",
       "      <td>False</td>\n",
       "      <td>36.8317</td>\n",
       "      <td>-1.28255</td>\n",
       "      <td>Monthly</td>\n",
       "      <td>2025-01-13T15:53:17</td>\n",
       "      <td>2025-01-24T05:50:20</td>\n",
       "      <td>11610.0</td>\n",
       "      <td>129.0</td>\n",
       "    </tr>\n",
       "    <tr>\n",
       "      <th>2</th>\n",
       "      <td>01 January 2025</td>\n",
       "      <td>Kenya</td>\n",
       "      <td>Riots</td>\n",
       "      <td>Mob violence</td>\n",
       "      <td>Rioters (Kenya)</td>\n",
       "      <td>0</td>\n",
       "      <td>Rioters-Civilians</td>\n",
       "      <td>Nairobi - Embakasi North</td>\n",
       "      <td>1</td>\n",
       "      <td>Nairobi</td>\n",
       "      <td>2025-01</td>\n",
       "      <td>Nairobi</td>\n",
       "      <td>Beans, dry, rosecoco</td>\n",
       "      <td>False</td>\n",
       "      <td>36.8317</td>\n",
       "      <td>-1.28255</td>\n",
       "      <td>Monthly</td>\n",
       "      <td>2025-01-13T17:24:16</td>\n",
       "      <td>2025-01-24T05:50:20</td>\n",
       "      <td>12240.0</td>\n",
       "      <td>136.0</td>\n",
       "    </tr>\n",
       "  </tbody>\n",
       "</table>\n",
       "</div>"
      ],
      "text/plain": [
       "        event_date country event_type sub_event_type           actor1  \\\n",
       "0  01 January 2025   Kenya      Riots   Mob violence  Rioters (Kenya)   \n",
       "1  01 January 2025   Kenya      Riots   Mob violence  Rioters (Kenya)   \n",
       "2  01 January 2025   Kenya      Riots   Mob violence  Rioters (Kenya)   \n",
       "\n",
       "   fatalities        interaction                  location  geo_precision  \\\n",
       "0           0  Rioters-Civilians  Nairobi - Embakasi North              1   \n",
       "1           0  Rioters-Civilians  Nairobi - Embakasi North              1   \n",
       "2           0  Rioters-Civilians  Nairobi - Embakasi North              1   \n",
       "\n",
       "   admin_1 year_month   market     cpcv2_description  is_staple_food  \\\n",
       "0  Nairobi    2025-01  Nairobi  Beans, dry, rosecoco           False   \n",
       "1  Nairobi    2025-01  Nairobi  Beans, dry, rosecoco           False   \n",
       "2  Nairobi    2025-01  Nairobi  Beans, dry, rosecoco           False   \n",
       "\n",
       "   longitude  latitude collection_schedule              created  \\\n",
       "0    36.8317  -1.28255             Monthly  2025-01-13T12:44:28   \n",
       "1    36.8317  -1.28255             Monthly  2025-01-13T15:53:17   \n",
       "2    36.8317  -1.28255             Monthly  2025-01-13T17:24:16   \n",
       "\n",
       "              modified    value  common_unit_price  \n",
       "0  2025-01-24T05:50:20  12690.0              141.0  \n",
       "1  2025-01-24T05:50:20  11610.0              129.0  \n",
       "2  2025-01-24T05:50:20  12240.0              136.0  "
      ]
     },
     "execution_count": 23,
     "metadata": {},
     "output_type": "execute_result"
    }
   ],
   "source": [
    "merged.head(3)"
   ]
  },
  {
   "cell_type": "markdown",
   "id": "8d231f35",
   "metadata": {},
   "source": []
  },
  {
   "cell_type": "markdown",
   "id": "82cfdbfb",
   "metadata": {},
   "source": [
    "## Merging Merged DataFrame and Rainfall DataFrame"
   ]
  },
  {
   "cell_type": "code",
   "execution_count": 24,
   "id": "1360d443",
   "metadata": {},
   "outputs": [
    {
     "name": "stderr",
     "output_type": "stream",
     "text": [
      "/tmp/ipykernel_9381/3794345612.py:3: UserWarning: Could not infer format, so each element will be parsed individually, falling back to `dateutil`. To ensure parsing is consistent and as-expected, please specify a format.\n",
      "  long_df['year_month'] = pd.to_datetime(long_df['year'].astype(str) + '-' + long_df['Month'].astype(str)).dt.to_period('M')\n"
     ]
    }
   ],
   "source": [
    "# Create a new (year_month) column in the long_df DataFrame and combines the 'year' and 'Month' columns into a datetime format\n",
    "\n",
    "long_df['year_month'] = pd.to_datetime(long_df['year'].astype(str) + '-' + long_df['Month'].astype(str)).dt.to_period('M')"
   ]
  },
  {
   "cell_type": "code",
   "execution_count": 25,
   "id": "92054a30",
   "metadata": {},
   "outputs": [],
   "source": [
    "#long_df.to_csv(\"rainfall.csv\", index=False)"
   ]
  },
  {
   "cell_type": "code",
   "execution_count": 26,
   "id": "8fdd803c",
   "metadata": {},
   "outputs": [
    {
     "data": {
      "text/html": [
       "<div>\n",
       "<style scoped>\n",
       "    .dataframe tbody tr th:only-of-type {\n",
       "        vertical-align: middle;\n",
       "    }\n",
       "\n",
       "    .dataframe tbody tr th {\n",
       "        vertical-align: top;\n",
       "    }\n",
       "\n",
       "    .dataframe thead th {\n",
       "        text-align: right;\n",
       "    }\n",
       "</style>\n",
       "<table border=\"1\" class=\"dataframe\">\n",
       "  <thead>\n",
       "    <tr style=\"text-align: right;\">\n",
       "      <th></th>\n",
       "      <th>Month</th>\n",
       "      <th>admin_1</th>\n",
       "      <th>year</th>\n",
       "      <th>rainfall</th>\n",
       "      <th>year_month</th>\n",
       "    </tr>\n",
       "  </thead>\n",
       "  <tbody>\n",
       "    <tr>\n",
       "      <th>0</th>\n",
       "      <td>Apr</td>\n",
       "      <td>Mandera</td>\n",
       "      <td>2023</td>\n",
       "      <td>223.3755</td>\n",
       "      <td>2023-04</td>\n",
       "    </tr>\n",
       "    <tr>\n",
       "      <th>1</th>\n",
       "      <td>Aug</td>\n",
       "      <td>Mandera</td>\n",
       "      <td>2023</td>\n",
       "      <td>3.1516</td>\n",
       "      <td>2023-08</td>\n",
       "    </tr>\n",
       "  </tbody>\n",
       "</table>\n",
       "</div>"
      ],
      "text/plain": [
       "  Month  admin_1  year  rainfall year_month\n",
       "0   Apr  Mandera  2023  223.3755    2023-04\n",
       "1   Aug  Mandera  2023    3.1516    2023-08"
      ]
     },
     "execution_count": 26,
     "metadata": {},
     "output_type": "execute_result"
    }
   ],
   "source": [
    "long_df.head(2)"
   ]
  },
  {
   "cell_type": "code",
   "execution_count": 27,
   "id": "dacff669",
   "metadata": {},
   "outputs": [],
   "source": [
    "# Merging the merged dataframe and long_df dataframe of the rainfall\n",
    "\n",
    "merged_data = pd.merge(\n",
    "    merged,\n",
    "    long_df,\n",
    "    on=['admin_1', 'year_month'],\n",
    "    how='inner'  \n",
    ")"
   ]
  },
  {
   "cell_type": "code",
   "execution_count": null,
   "id": "99a6b578",
   "metadata": {},
   "outputs": [],
   "source": []
  },
  {
   "cell_type": "code",
   "execution_count": 28,
   "id": "db0f76d7",
   "metadata": {},
   "outputs": [
    {
     "name": "stdout",
     "output_type": "stream",
     "text": [
      "<class 'pandas.core.frame.DataFrame'>\n",
      "RangeIndex: 13958 entries, 0 to 13957\n",
      "Data columns (total 24 columns):\n",
      " #   Column               Non-Null Count  Dtype    \n",
      "---  ------               --------------  -----    \n",
      " 0   event_date           13958 non-null  object   \n",
      " 1   country              13958 non-null  object   \n",
      " 2   event_type           13958 non-null  object   \n",
      " 3   sub_event_type       13958 non-null  object   \n",
      " 4   actor1               13958 non-null  object   \n",
      " 5   fatalities           13958 non-null  int64    \n",
      " 6   interaction          13958 non-null  object   \n",
      " 7   location             13958 non-null  object   \n",
      " 8   geo_precision        13958 non-null  int64    \n",
      " 9   admin_1              13958 non-null  object   \n",
      " 10  year_month           13958 non-null  period[M]\n",
      " 11  market               13958 non-null  object   \n",
      " 12  cpcv2_description    13958 non-null  object   \n",
      " 13  is_staple_food       13958 non-null  bool     \n",
      " 14  longitude            13958 non-null  float64  \n",
      " 15  latitude             13958 non-null  float64  \n",
      " 16  collection_schedule  13958 non-null  object   \n",
      " 17  created              13958 non-null  object   \n",
      " 18  modified             13958 non-null  object   \n",
      " 19  value                13958 non-null  float64  \n",
      " 20  common_unit_price    13958 non-null  float64  \n",
      " 21  Month                13958 non-null  object   \n",
      " 22  year                 13958 non-null  object   \n",
      " 23  rainfall             13958 non-null  float64  \n",
      "dtypes: bool(1), float64(5), int64(2), object(15), period[M](1)\n",
      "memory usage: 2.5+ MB\n"
     ]
    }
   ],
   "source": [
    "merged_data.info()"
   ]
  },
  {
   "cell_type": "code",
   "execution_count": 29,
   "id": "71cf7584",
   "metadata": {},
   "outputs": [],
   "source": [
    "# Saving the merged data file \n",
    "#merged_data.to_csv(\"merged_data.csv\", index=False)"
   ]
  },
  {
   "cell_type": "markdown",
   "id": "d2523425",
   "metadata": {},
   "source": []
  },
  {
   "cell_type": "code",
   "execution_count": 30,
   "id": "61133723",
   "metadata": {},
   "outputs": [
    {
     "data": {
      "text/html": [
       "<div>\n",
       "<style scoped>\n",
       "    .dataframe tbody tr th:only-of-type {\n",
       "        vertical-align: middle;\n",
       "    }\n",
       "\n",
       "    .dataframe tbody tr th {\n",
       "        vertical-align: top;\n",
       "    }\n",
       "\n",
       "    .dataframe thead th {\n",
       "        text-align: right;\n",
       "    }\n",
       "</style>\n",
       "<table border=\"1\" class=\"dataframe\">\n",
       "  <thead>\n",
       "    <tr style=\"text-align: right;\">\n",
       "      <th></th>\n",
       "      <th>event_date</th>\n",
       "      <th>country</th>\n",
       "      <th>event_type</th>\n",
       "      <th>sub_event_type</th>\n",
       "      <th>actor1</th>\n",
       "      <th>fatalities</th>\n",
       "      <th>interaction</th>\n",
       "      <th>location</th>\n",
       "      <th>geo_precision</th>\n",
       "      <th>admin_1</th>\n",
       "      <th>year_month</th>\n",
       "      <th>market</th>\n",
       "      <th>cpcv2_description</th>\n",
       "      <th>is_staple_food</th>\n",
       "      <th>longitude</th>\n",
       "      <th>latitude</th>\n",
       "      <th>collection_schedule</th>\n",
       "      <th>created</th>\n",
       "      <th>modified</th>\n",
       "      <th>value</th>\n",
       "      <th>common_unit_price</th>\n",
       "      <th>Month</th>\n",
       "      <th>year</th>\n",
       "      <th>rainfall</th>\n",
       "    </tr>\n",
       "  </thead>\n",
       "  <tbody>\n",
       "    <tr>\n",
       "      <th>0</th>\n",
       "      <td>31 December 2024</td>\n",
       "      <td>Kenya</td>\n",
       "      <td>Protests</td>\n",
       "      <td>Peaceful protest</td>\n",
       "      <td>Protesters (Kenya)</td>\n",
       "      <td>0</td>\n",
       "      <td>Protesters only</td>\n",
       "      <td>Mombasa</td>\n",
       "      <td>1</td>\n",
       "      <td>Mombasa</td>\n",
       "      <td>2024-12</td>\n",
       "      <td>Composite (Mombasa)</td>\n",
       "      <td>Tea, Mombasa</td>\n",
       "      <td>False</td>\n",
       "      <td>39.6606</td>\n",
       "      <td>-4.06154</td>\n",
       "      <td>Monthly</td>\n",
       "      <td>2024-12-17T19:59:02</td>\n",
       "      <td>2024-12-27T13:42:19</td>\n",
       "      <td>2.0660</td>\n",
       "      <td>2.0660</td>\n",
       "      <td>Dec</td>\n",
       "      <td>2024</td>\n",
       "      <td>4.2088</td>\n",
       "    </tr>\n",
       "    <tr>\n",
       "      <th>1</th>\n",
       "      <td>31 December 2024</td>\n",
       "      <td>Kenya</td>\n",
       "      <td>Protests</td>\n",
       "      <td>Peaceful protest</td>\n",
       "      <td>Protesters (Kenya)</td>\n",
       "      <td>0</td>\n",
       "      <td>Protesters only</td>\n",
       "      <td>Mombasa</td>\n",
       "      <td>1</td>\n",
       "      <td>Mombasa</td>\n",
       "      <td>2024-12</td>\n",
       "      <td>Composite (Mombasa)</td>\n",
       "      <td>Tea, Mombasa</td>\n",
       "      <td>False</td>\n",
       "      <td>39.6606</td>\n",
       "      <td>-4.06154</td>\n",
       "      <td>Monthly</td>\n",
       "      <td>2024-12-17T20:00:08</td>\n",
       "      <td>2024-12-27T13:42:19</td>\n",
       "      <td>2.2375</td>\n",
       "      <td>2.2375</td>\n",
       "      <td>Dec</td>\n",
       "      <td>2024</td>\n",
       "      <td>4.2088</td>\n",
       "    </tr>\n",
       "  </tbody>\n",
       "</table>\n",
       "</div>"
      ],
      "text/plain": [
       "         event_date country event_type    sub_event_type              actor1  \\\n",
       "0  31 December 2024   Kenya   Protests  Peaceful protest  Protesters (Kenya)   \n",
       "1  31 December 2024   Kenya   Protests  Peaceful protest  Protesters (Kenya)   \n",
       "\n",
       "   fatalities      interaction location  geo_precision  admin_1 year_month  \\\n",
       "0           0  Protesters only  Mombasa              1  Mombasa    2024-12   \n",
       "1           0  Protesters only  Mombasa              1  Mombasa    2024-12   \n",
       "\n",
       "                market cpcv2_description  is_staple_food  longitude  latitude  \\\n",
       "0  Composite (Mombasa)      Tea, Mombasa           False    39.6606  -4.06154   \n",
       "1  Composite (Mombasa)      Tea, Mombasa           False    39.6606  -4.06154   \n",
       "\n",
       "  collection_schedule              created             modified   value  \\\n",
       "0             Monthly  2024-12-17T19:59:02  2024-12-27T13:42:19  2.0660   \n",
       "1             Monthly  2024-12-17T20:00:08  2024-12-27T13:42:19  2.2375   \n",
       "\n",
       "   common_unit_price Month  year  rainfall  \n",
       "0             2.0660   Dec  2024    4.2088  \n",
       "1             2.2375   Dec  2024    4.2088  "
      ]
     },
     "execution_count": 30,
     "metadata": {},
     "output_type": "execute_result"
    }
   ],
   "source": [
    "merged_data.head(2)"
   ]
  },
  {
   "cell_type": "code",
   "execution_count": null,
   "id": "24abf921",
   "metadata": {},
   "outputs": [],
   "source": []
  }
 ],
 "metadata": {
  "kernelspec": {
   "display_name": "Python 3 (ipykernel)",
   "language": "python",
   "name": "python3"
  },
  "language_info": {
   "codemirror_mode": {
    "name": "ipython",
    "version": 3
   },
   "file_extension": ".py",
   "mimetype": "text/x-python",
   "name": "python",
   "nbconvert_exporter": "python",
   "pygments_lexer": "ipython3",
   "version": "3.13.5"
  }
 },
 "nbformat": 4,
 "nbformat_minor": 5
}
